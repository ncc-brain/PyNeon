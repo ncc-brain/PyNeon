{
 "cells": [
  {
   "cell_type": "markdown",
   "metadata": {},
   "source": [
    "# Scene video and scanpath mapping\n",
    "\n",
    "In this tutorial, we will map gaze data from an eye-tracking recording to video frames, estimate a scanpath, and overlay the gaze fixations on the video. We will use the `pyneon` library to work with Neon eye-tracking recordings, which contain video and event data, including gaze information.\n",
    "\n",
    "---\n",
    "\n",
    "## 1. Setup: Loading a Neon Recording\n",
    "\n",
    "First, we load the Neon recording, which contains video and gaze data. Ensure that you have installed the required libraries such as `pyneon` and have the recording dataset available.\n"
   ]
  },
  {
   "cell_type": "code",
   "execution_count": 3,
   "metadata": {},
   "outputs": [
    {
     "name": "stdout",
     "output_type": "stream",
     "text": [
      "C:\\Users\\jan-gabriel.hartel\\Documents\\GitHub\\PyNeon\\data\\boardView\n",
      "Dataset | 2 recordings\n"
     ]
    }
   ],
   "source": [
    "# Import necessary libraries\n",
    "import sys\n",
    "import numpy as np\n",
    "from pyneon import get_sample_data, Dataset, Recording\n",
    "import pandas as pd\n",
    "\n",
    "\n",
    "# Download sample data (if not existing) and return the path\n",
    "sample_dir = get_sample_data(\"boardView\")\n",
    "print(sample_dir)\n",
    "\n",
    "dataset_dir = sample_dir / \"Timeseries Data + Scene Video\"\n",
    "dataset = Dataset(dataset_dir)\n",
    "print(dataset)\n",
    "\n",
    "recording = dataset[0]"
   ]
  },
  {
   "cell_type": "markdown",
   "metadata": {},
   "source": [
    "---\n",
    "\n",
    "## 2. Mapping Gaze Data to Video Frames\n",
    "\n",
    "In Neon recordings, gaze events are not naturally synchronized with the video. To map gaze data to specific video frames, we can use the `map_gaze_to_video` method. This method requires the `pyneon.video` object for determination of video timestamps, the `pyneon.fixations` object to make use of PupilLabs fixation detection pipeline and the `pyneon.gaze` object for improved time resolution of gaze estimation.\n",
    "\n",
    "By default, Neon reports fixations with a single coordinate. This is computed as average between all gaze coordinates over the interval dennoted as a fixation. However, this clashes with the funcional definition of a fixation as _tracking a fixed point in space_, used by Neon.\n",
    "\n",
    "Imagine looking at a fixed point, for example a street sign, while you are walking past it. Despite the movement of your body and the relative movement of the sign, the fixation will be stabilised. As such, taking an average gaze coordinate over the enntire duration will not correspond to the location of the sign, or the fixation, ar any given point in time. Feeding this point into an optical flow algorithm would, with high likelihood, lead to tracking anything but the sign.\n",
    "\n",
    "Therefore, we use partial averages of gaze locations around the respective frame's timestamp. As the video is sampled at 30Hz while the gaze output nominally reaches 200Hz, we expect to take the average over 6 subsequent gaze points. This achieves a trade-off between recency of the reported gaze position at the given frame and error minimisation, by averaging over microsaccades around the actual fixation target as well as random errors."
   ]
  },
  {
   "cell_type": "code",
   "execution_count": 4,
   "metadata": {},
   "outputs": [
    {
     "name": "stdout",
     "output_type": "stream",
     "text": [
      "                     gaze x [px]  gaze y [px]  worn  fixation id  blink id  \\\n",
      "timestamp [ns]                                                               \n",
      "1732621642940900000   953.513857   416.911286     1           51      <NA>   \n",
      "1732621642974244444   946.757667   432.689333     1           51      <NA>   \n",
      "1732621643007588888   947.623000   429.558571     1           51      <NA>   \n",
      "1732621643040933333   948.243167   426.238667     1           51      <NA>   \n",
      "1732621643090933333   933.202250   428.496750     1         <NA>      <NA>   \n",
      "\n",
      "                     azimuth [deg]  elevation [deg]  frame_idx  \n",
      "timestamp [ns]                                                  \n",
      "1732621642940900000       9.166245        12.391290        476  \n",
      "1732621642974244444       8.702540        11.386827        477  \n",
      "1732621643007588888       8.762843        11.586733        478  \n",
      "1732621643040933333       8.807615        11.798852        479  \n",
      "1732621643090933333       7.822717        11.664492        480  \n"
     ]
    }
   ],
   "source": [
    "# Map gaze data to the video timestamps\n",
    "synced_gaze = recording.sync_gaze_to_video(overwrite=True)\n",
    "\n",
    "# Inspect the mapped gaze data\n",
    "print(synced_gaze.data.tail())"
   ]
  },
  {
   "cell_type": "code",
   "execution_count": 5,
   "metadata": {},
   "outputs": [
    {
     "ename": "AttributeError",
     "evalue": "'Recording' object has no attribute 'clear_der_dir'",
     "output_type": "error",
     "traceback": [
      "\u001b[1;31m---------------------------------------------------------------------------\u001b[0m",
      "\u001b[1;31mAttributeError\u001b[0m                            Traceback (most recent call last)",
      "Cell \u001b[1;32mIn[5], line 1\u001b[0m\n\u001b[1;32m----> 1\u001b[0m \u001b[43mrecording\u001b[49m\u001b[38;5;241;43m.\u001b[39;49m\u001b[43mclear_der_dir\u001b[49m()\n",
      "\u001b[1;31mAttributeError\u001b[0m: 'Recording' object has no attribute 'clear_der_dir'"
     ]
    }
   ],
   "source": [
    "recording.clear_der_dir()"
   ]
  },
  {
   "cell_type": "markdown",
   "metadata": {},
   "source": [
    "Above, we can see that each frame gets a current gaze position as well as a fixation status. Currently, three types of fixation status are used:\n",
    "\n",
    "1. `start` denoting the first frame corresponding to a fixation\n",
    "2. `during` corresponding to intermediate frames of the same fixation\n",
    "3. `end` denoting the last frame of the fixation\n",
    "\n",
    "This determination will become relevant for tracking the scanpath with optical flow. After all, while a fixation is still active, we get up-to-date gaze information. Only after its end, tracking becomes necessary."
   ]
  },
  {
   "cell_type": "markdown",
   "metadata": {},
   "source": [
    "---\n",
    "\n",
    "## 3. Estimating the Scanpath\n",
    "\n",
    "Having matched every frame with a gaze coordinate, we can now get into the meat of the scanpath estimation. In dynamic scenes, the same object will not occupy the same scene-camera location over time. Therefore, we need to continuously map past fixation points as long as they are still visible in the frame.\n",
    "\n",
    "The `estimate_scanpath` method achieves this by feeding fixation point denoted as `end` into a Lucas-Kanade sparse optical flow algorithm. This algorithm compares the video in vicinity of the point with the subsequent frame, updating the location in dependence of its movement. While a point is tracked, its status is flagged as `tracked`. In practice, many scene frames will have multiple simultaneously present past fixations. Our implementation carries them and repeately performs an optical flow estimation for each point. Only when they can no longer be tracked, will they be flagged as `lost` and subsequently dropped for the next frame.\n",
    "\n",
    "It should be noted that this algorithm is not optimised for performance and that it will take a considerable amount of time to run on limited hardware. For our computers, the algorithm takes roughly half the time of the video, though this benchmark heavily depends on the density of past fixation points and computational ressources\n"
   ]
  },
  {
   "cell_type": "code",
   "execution_count": null,
   "metadata": {},
   "outputs": [
    {
     "name": "stdout",
     "output_type": "stream",
     "text": [
      "   time                                          fixations\n",
      "0  0.00    fixation id   x   y fixation status\n",
      "0       ...\n",
      "1  0.05    fixation id   x   y fixation status\n",
      "1       ...\n",
      "2  0.10    fixation id   x   y fixation status\n",
      "2       ...\n",
      "3  0.15    fixation id   x   y fixation status\n",
      "3       ...\n",
      "4  0.20    fixation id   x   y fixation status\n",
      "4       ...\n"
     ]
    }
   ],
   "source": [
    "# Estimate the scanpath based on the mapped gaze data\n",
    "recording.estimate_scanpath()\n",
    "\n",
    "# Save the estimated scanpath as a pickle and CSV\n",
    "recording.estimated_scanpath.to_pickle(\"estimated_scanpath.pkl\")\n",
    "recording.estimated_scanpath.to_csv(\"estimated_scanpath.csv\")\n",
    "\n",
    "# Inspect the estimated scanpath\n",
    "print(recording.estimated_scanpath.head())"
   ]
  },
  {
   "cell_type": "markdown",
   "metadata": {},
   "source": [
    "We should take a moment to understand the format of the `estimated_scanpath` property. As we care about getting a scanpath mapped on every single video-frame, we create it as a dataframe of dataframes. As such, every row carries the timestamp of the unnderlying video and saves a dataframe in the `fixations` cell. In this dataframe, every present fixation is provided with an id, coordinates and a fixation status, as seen below. The benefit of treating is a dataframe is the possibility to use intuitive pandas indexing, allowing us, for example, to get a list of fixations at frame 1334. This frame corresponds to a turn with a lot of lost fixations.\n",
    "\n",
    "As a quirk of Neon taking some time to start up, the first frames will usually not yield any usable results. Still, we carry them for consistency. "
   ]
  },
  {
   "cell_type": "code",
   "execution_count": null,
   "metadata": {},
   "outputs": [
    {
     "name": "stdout",
     "output_type": "stream",
     "text": [
      "   fixation id            x           y fixation status\n",
      "0        102.0  1195.487429  495.576714          during\n",
      "1         98.0    28.327660  473.548737         tracked\n",
      "2         97.0   621.986206  691.748291         tracked\n",
      "3         96.0   154.725586  919.655640         tracked\n",
      "4         93.0   258.866272  648.244324         tracked\n",
      "5         91.0    24.861883  335.163666         tracked\n",
      "6         88.0          NaN         NaN            lost\n",
      "7         81.0    88.962830  318.220032         tracked\n",
      "8         80.0    11.042568  376.608856         tracked\n",
      "9         79.0          NaN         NaN            lost\n",
      "10        78.0          NaN         NaN            lost\n",
      "11        74.0          NaN         NaN            lost\n"
     ]
    }
   ],
   "source": [
    "print(recording.estimated_scanpath[\"fixations\"][1334])"
   ]
  },
  {
   "cell_type": "markdown",
   "metadata": {},
   "source": [
    "---\n",
    "\n",
    "## 4. Understanding Fixation Status\n",
    "\n",
    "Each fixation is assigned a status that indicates its lifecycle:\n",
    "\n",
    "- **start**: first frame of fixation\n",
    "- **during**: intermediate frames of fixation\n",
    "- **end**: last frame of fixation\n",
    "- **tracked**: Optical flow algorithm tracks fixation\n",
    "- **lost**: Tracking is lost, fixation is no longer tracked and gets dropped\n",
    "\n",
    "---\n",
    "\n",
    "## 5. Overlaying Fixations on the Video\n",
    "\n",
    "Now that we have the scanpath, we can overlay the gaze fixations on the video. This creates a video output with overlaid fixations, where:\n",
    "\n",
    "- A **blue dot** represents the current gaze location.\n",
    "- **Green dots** represent tracked fixations.\n",
    "- A **red dot** indicates no fixation (saccades or blinks).\n",
    "\n",
    "Further, we draw connecting lines between past fixations to show the scanpath for the current video. The show_video option creates a live-output of the video rendering, but also increases the runtime."
   ]
  },
  {
   "cell_type": "code",
   "execution_count": null,
   "metadata": {},
   "outputs": [],
   "source": [
    "# Overlay the scanpath on the video and show the output\n",
    "recording.overlay_scanpath_on_video(\"../../data/OpticalFlow/test.mp4\", show_video=True)"
   ]
  },
  {
   "cell_type": "markdown",
   "metadata": {},
   "source": [
    "---\n",
    "\n",
    "## Summary\n",
    "\n",
    "- **Mapping Gaze to Video**: We used the `map_gaze_to_video` method to match gaze data with video frames based on timestamps.\n",
    "- **Estimating Scanpath**: The scanpath was estimated using `estimate_scanpath`, which tracks fixations and uses optical flow to follow past fixations across scene changes.\n",
    "- **Overlaying Fixations**: The fixations were visualized on the video by calling `overlay_fixations_on_video`.\n",
    "\n",
    "This workflow can be used to process eye-tracking data, align it with video frames, and visualize gaze movements within video recordings.\n"
   ]
  }
 ],
 "metadata": {
  "kernelspec": {
   "display_name": "pyneon",
   "language": "python",
   "name": "python3"
  },
  "language_info": {
   "codemirror_mode": {
    "name": "ipython",
    "version": 3
   },
   "file_extension": ".py",
   "mimetype": "text/x-python",
   "name": "python",
   "nbconvert_exporter": "python",
   "pygments_lexer": "ipython3",
   "version": "3.12.5"
  }
 },
 "nbformat": 4,
 "nbformat_minor": 2
}
